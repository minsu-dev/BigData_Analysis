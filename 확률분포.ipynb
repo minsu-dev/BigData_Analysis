{
 "cells": [
  {
   "cell_type": "markdown",
   "metadata": {},
   "source": [
    "## 확률분포"
   ]
  },
  {
   "cell_type": "markdown",
   "metadata": {},
   "source": [
    "## 이항분포\n",
    "### stats.binom.pmf(x,n,p) - 질량함수\n",
    "### stats.binom.cdf(x,n.p) - 누적함수"
   ]
  },
  {
   "cell_type": "code",
   "execution_count": null,
   "metadata": {},
   "outputs": [],
   "source": [
    "from scipy import stats\n",
    "import numpy as np"
   ]
  },
  {
   "cell_type": "markdown",
   "metadata": {},
   "source": [
    "## 주사위를 4회 던져서 6의 눈이 2회 나올 확률은?"
   ]
  },
  {
   "cell_type": "code",
   "execution_count": null,
   "metadata": {},
   "outputs": [],
   "source": [
    "stats.binom.pmf()"
   ]
  },
  {
   "cell_type": "code",
   "execution_count": null,
   "metadata": {},
   "outputs": [],
   "source": [
    "import numpy as np\n",
    "import matplotlib.pyplot as plt\n",
    "\n",
    "n=20\n",
    "x=np.arange(21)\n",
    "x\n",
    "ps=np.arange(1,10)/10\n",
    "\n",
    "for p in ps:\n",
    "    plt.plot(x, stats.binom.pmf(x, n, p), label='(p=' + str(p) + ')')\n",
    "    \n",
    "plt.xlabel('X')\n",
    "plt.ylabel('P(X)')\n",
    "plt.grid()\n",
    "plt.legend()\n",
    "plt.show()"
   ]
  },
  {
   "cell_type": "code",
   "execution_count": null,
   "metadata": {},
   "outputs": [],
   "source": [
    "# p = 0.5일때\n",
    "import matplotlib.pyplot as plt\n",
    "from scipy import stats\n",
    "\n",
    "x = np.arange(21)\n",
    "\n",
    "fig = plt.figure()\n",
    "\n",
    "ax1 = fig.add_subplot(2, 1, 1)\n",
    "ax2 = fig.add_subplot(2, 1, 2)\n",
    "\n",
    "\n",
    "ax1.plot(x, stats.binom.pmf(x,20,0.5))\n",
    "ax2.plot(x, stats.binom.cdf(x,20,0.5))\n",
    "     \n",
    "plt.show()"
   ]
  },
  {
   "cell_type": "markdown",
   "metadata": {},
   "source": [
    "## 불량품이 0.1인 공정에서 15개의 제품을 추출하였을 때, 다음의 확률을 구하여라.\n",
    "### P(X=2), P(X<=2), P(X>=10)\n",
    "\n"
   ]
  },
  {
   "cell_type": "code",
   "execution_count": null,
   "metadata": {},
   "outputs": [],
   "source": [
    "print(\"p(x=2):\", )\n",
    "print(\"p(x<=2):\", )\n",
    "print(\"p(x>=10)\", )\n"
   ]
  },
  {
   "cell_type": "markdown",
   "metadata": {},
   "source": [
    "### 동전을 다섯 번 던졌을 때 앞면이 세번 나올 확률과 세번 이하로 나올 확률 \n"
   ]
  },
  {
   "cell_type": "code",
   "execution_count": null,
   "metadata": {},
   "outputs": [],
   "source": [
    "print(stats.binom.pmf())\n",
    "print(stats.binom.cdf())"
   ]
  },
  {
   "cell_type": "markdown",
   "metadata": {},
   "source": [
    "---"
   ]
  },
  {
   "cell_type": "markdown",
   "metadata": {},
   "source": [
    "## 기하분포 "
   ]
  },
  {
   "cell_type": "code",
   "execution_count": null,
   "metadata": {},
   "outputs": [],
   "source": [
    "import numpy as np\n",
    "import matplotlib.pyplot as plt\n",
    "from scipy import stats\n",
    "\n",
    "x = np.arange(1,11)\n",
    "\n",
    "fig = plt.figure()\n",
    "\n",
    "ax1 = fig.add_subplot(2, 1, 1)\n",
    "ax2 = fig.add_subplot(2, 1, 2)\n",
    "\n",
    "\n",
    "ax1.plot(x, stats.geom.pmf(x,0.5))\n",
    "ax2.plot(x, stats.geom.cdf(x,0.5))\n",
    "     \n",
    "plt.show()"
   ]
  },
  {
   "cell_type": "markdown",
   "metadata": {},
   "source": [
    "## 음이항분포"
   ]
  },
  {
   "cell_type": "code",
   "execution_count": null,
   "metadata": {},
   "outputs": [],
   "source": [
    "import numpy as np\n",
    "import matplotlib.pyplot as plt\n",
    "from scipy import stats\n",
    "\n",
    "x = np.arange(11)\n",
    "\n",
    "fig = plt.figure()\n",
    "\n",
    "ax1 = fig.add_subplot(2, 1, 1)\n",
    "ax2 = fig.add_subplot(2, 1, 2)\n",
    "\n",
    "\n",
    "ax1.plot(x, stats.nbinom.pmf(x,1,0.5))\n",
    "ax2.plot(x, stats.nbinom.cdf(x,1,0.5))\n",
    "     \n",
    "plt.show()"
   ]
  },
  {
   "cell_type": "markdown",
   "metadata": {},
   "source": [
    "### 확률 0.1 사건이 5번째 성공할 확률\n",
    "\n",
    "### stats.geom.pmf(x,p)\n",
    "### stats.nbinom.pmf(x,k,p)"
   ]
  },
  {
   "cell_type": "code",
   "execution_count": null,
   "metadata": {},
   "outputs": [],
   "source": [
    "###기하분포\n",
    "print(\"기하분포\", stats.geom.pmf(5,0.1))\n",
    "\n",
    "### 음이항분포\n",
    "print(\"음이항분포\", stats.nbinom.pmf(4,1,0.1))"
   ]
  },
  {
   "cell_type": "markdown",
   "metadata": {},
   "source": [
    "---"
   ]
  },
  {
   "cell_type": "markdown",
   "metadata": {},
   "source": [
    "## 포아송분포"
   ]
  },
  {
   "cell_type": "code",
   "execution_count": null,
   "metadata": {},
   "outputs": [],
   "source": [
    "import numpy as np\n",
    "import matplotlib.pyplot as plt\n",
    "from scipy import stats\n",
    "\n",
    "x = np.arange(11)\n",
    "\n",
    "fig = plt.figure()\n",
    "\n",
    "ax1 = fig.add_subplot(2, 1, 1)\n",
    "ax2 = fig.add_subplot(2, 1, 2)\n",
    "\n",
    "for i in range(1, 10):\n",
    "    ax1.plot(stats.poisson.pmf(x,i))\n",
    "\n",
    "ax2.plot(stats.poisson.cdf(x,3))\n",
    "\n",
    "xx = np.arange(100)\n",
    "\n",
    "     \n",
    "plt.show()\n",
    "plt.plot(stats.poisson.pmf(xx,50))"
   ]
  },
  {
   "cell_type": "markdown",
   "metadata": {},
   "source": [
    "## 어떤 상점에서 1시간에 평균 손님 3명이 방문한다. 1시간에 찾아오는 손님의 수가 x일 때 확률을 구하시오.\n",
    "## 1) P(X=4), 2) P(X<=4), 3) P(X>=4)\n"
   ]
  },
  {
   "cell_type": "code",
   "execution_count": null,
   "metadata": {},
   "outputs": [],
   "source": [
    "print(\"p(x=4)\", )\n",
    "print(\"p(x<=4)\", )\n",
    "print(\"p(x>=4\", )"
   ]
  },
  {
   "cell_type": "markdown",
   "metadata": {},
   "source": [
    "---"
   ]
  },
  {
   "cell_type": "markdown",
   "metadata": {},
   "source": [
    "## 정규분포곡선 그리기"
   ]
  },
  {
   "cell_type": "code",
   "execution_count": null,
   "metadata": {},
   "outputs": [],
   "source": [
    "import matplotlib.pyplot as plt\n",
    "from scipy import stats\n",
    "\n",
    "x = np.arange(0, 100)\n",
    "\n",
    "plt.plot(stats.norm.pdf(x-50,0,20))\n",
    "plt.show()"
   ]
  },
  {
   "cell_type": "code",
   "execution_count": null,
   "metadata": {},
   "outputs": [],
   "source": [
    "import numpy as np\n",
    "import matplotlib.pyplot as plt\n",
    "from scipy import stats\n",
    "\n",
    "x = np.arange(100)\n",
    "\n",
    "fig = plt.figure()\n",
    "\n",
    "ax1 = fig.add_subplot(2, 3, 1)\n",
    "ax2 = fig.add_subplot(2, 3, 2)\n",
    "ax3 = fig.add_subplot(2, 3, 3)\n",
    "ax4 = fig.add_subplot(2, 3, 4)\n",
    "ax5 = fig.add_subplot(2, 3, 5)\n",
    "ax6 = fig.add_subplot(2, 3, 6)\n",
    "\n",
    "ax1.plot(stats.norm.pdf(x-50,0,10))\n",
    "ax2.plot(stats.norm.pdf(x-50,0,20))\n",
    "ax3.plot(stats.norm.pdf(x-50,0,30))\n",
    "ax4.plot(stats.norm.pdf(x-60,-10,10))\n",
    "ax5.plot(stats.norm.pdf(x-50,10,10))\n",
    "ax6.plot(stats.norm.pdf(x-40,0,10))\n",
    "   \n",
    "plt.tight_layout()\n",
    "\n",
    "plt.show()\n"
   ]
  },
  {
   "cell_type": "markdown",
   "metadata": {},
   "source": [
    "## 평균: 390, 표준편차: 25\n",
    "### P(X>=390)\n",
    "### P(354<=X<=430)\n",
    "### P(X>=430)\n",
    "### P(X<=360)+P(X>=430)\n",
    "### 상위 3% 이내에 들 점수 norm.ppf()\n"
   ]
  },
  {
   "cell_type": "code",
   "execution_count": null,
   "metadata": {},
   "outputs": [],
   "source": [
    "rv=stats.norm(loc = 390, scale = 25)\n",
    "\n",
    "print(\"p(x>=390)\", )\n",
    "print(\"p(354 ~ 430)\", )\n",
    "print(\"p(x>=430\", )\n",
    "print(\"상위 3% 점수\", )\n"
   ]
  },
  {
   "cell_type": "markdown",
   "metadata": {},
   "source": [
    "## 정규분포의 랜덤 샘플숫자"
   ]
  },
  {
   "cell_type": "code",
   "execution_count": null,
   "metadata": {},
   "outputs": [],
   "source": [
    "z=rv.rvs(size=10000)\n",
    "plt.hist(z,bins=100)\n",
    "plt.show()\n"
   ]
  },
  {
   "cell_type": "markdown",
   "metadata": {},
   "source": [
    "각각 1000명\n",
    "남자/여자 키, 몸무게, 100m 달리기 – (평균/표준편차)\n",
    "각각 히스토그램 만들기\n",
    "남/녀 키, 몸무게, 100m달리기 –평균, 중간값, 표준편차, 최댓값, 최솟값 구하기\n"
   ]
  },
  {
   "cell_type": "code",
   "execution_count": null,
   "metadata": {},
   "outputs": [],
   "source": [
    "man_height_rv = stats.norm(loc = 178, scale = 20)\n",
    "woman_height_rv = stats.norm(loc = 165, scale = 20)\n",
    "\n",
    "man = (man_height_rv.rvs(size=1000))\n",
    "woman = woman_height_rv.rvs(size=1000)\n",
    "\n",
    "fig = plt.figure()\n",
    "\n",
    "ax1 = fig.add_subplot(1, 2, 1)\n",
    "ax2 = fig.add_subplot(1, 2, 2)\n",
    "\n",
    "\n",
    "ax1.hist(man, bins=100 )\n",
    "ax2.hist(woman, bins = 10)\n",
    "\n",
    "plt.show()\n",
    "print(np.mean(man), np.min(man), np.max(man), np.var(man), np.std(man), np.median(man))"
   ]
  }
 ],
 "metadata": {
  "kernelspec": {
   "display_name": "Python 3.12.2 64-bit",
   "language": "python",
   "name": "python3"
  },
  "language_info": {
   "codemirror_mode": {
    "name": "ipython",
    "version": 3
   },
   "file_extension": ".py",
   "mimetype": "text/x-python",
   "name": "python",
   "nbconvert_exporter": "python",
   "pygments_lexer": "ipython3",
   "version": "3.12.9"
  },
  "orig_nbformat": 4,
  "vscode": {
   "interpreter": {
    "hash": "3d3db4e9decadc7cbbe01f1ffad07b5cbe325c0d8371fd9fa2a1c27565f56da0"
   }
  }
 },
 "nbformat": 4,
 "nbformat_minor": 2
}
