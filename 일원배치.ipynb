{
 "cells": [
  {
   "cell_type": "markdown",
   "metadata": {},
   "source": [
    "## 분산분석\n",
    "## 계산식과 함수이용 결과 비교"
   ]
  },
  {
   "cell_type": "code",
   "execution_count": 1,
   "metadata": {},
   "outputs": [
    {
     "name": "stdout",
     "output_type": "stream",
     "text": [
      "F: 1.0801664233143073\n",
      "유의확률 0.33980349855389913\n",
      "1.0801664233143355 0.3398034985538855\n",
      "F_onewayResult(statistic=np.float64(1.0801664233143355), pvalue=np.float64(0.3398034985538855))\n"
     ]
    }
   ],
   "source": [
    "import scipy.stats as stats\n",
    "import pandas as pd\n",
    "import matplotlib.pyplot as plt\n",
    "import numpy as np\n",
    "from scipy.stats import f\n",
    "\n",
    "no_samples1 = 500\n",
    "no_samples2 = 500\n",
    "no_samples3 = 500\n",
    "\n",
    "g1 = stats.norm(120,15).rvs(no_samples1)\n",
    "g2 = stats.norm(120.1,16).rvs(no_samples2)\n",
    "g3 = stats.norm(120.5,15).rvs(no_samples3)\n",
    "\n",
    "g1_mean = g1.mean()\n",
    "g2_mean = g2.mean()\n",
    "g3_mean = g3.mean()\n",
    "\n",
    "sse1 = ((g1 - g1_mean)**2).sum()\n",
    "sse2 = ((g2 - g2_mean)**2).sum()\n",
    "sse3 = ((g3 - g3_mean)**2).sum()\n",
    "\n",
    "sse = sse1 + sse2 + sse3\n",
    "dfe = len(g1) - 1 + len(g2) -1 + len(g3) -1\n",
    "\n",
    "y = (g1 + g2 + g3).mean()/3.0\n",
    "\n",
    "sst1 = len(g1) * ((g1_mean - y)**2).sum()\n",
    "sst2 = len(g2) * ((g2_mean - y)**2).sum()\n",
    "sst3 = len(g3) * ((g3_mean - y)**2).sum()\n",
    "\n",
    "sst = sst1 + sst2 + sst3\n",
    "\n",
    "dft = 2\n",
    "\n",
    "mst = sst / dft\n",
    "mse = sse / dfe\n",
    "\n",
    "fVal = mst / mse\n",
    "\n",
    "print('F:', fVal)\n",
    "\n",
    "print('유의확률', 1 - f.cdf(fVal, dft, dfe))\n",
    "\n",
    "F_statistic, pVal = stats.f_oneway(g1, g2, g3)\n",
    "\n",
    "print(F_statistic, pVal)\n",
    "print(stats.f_oneway(g1, g2, g3))\n"
   ]
  },
  {
   "cell_type": "markdown",
   "metadata": {},
   "source": [
    "## 분산분석 을 위한 정규성 / 등분산 검정\n",
    "## 분산분석 실행 후 사후검정"
   ]
  },
  {
   "cell_type": "code",
   "execution_count": 3,
   "metadata": {},
   "outputs": [
    {
     "data": {
      "image/png": "[encoded data removed]",
      "text/plain": [
       "<Figure size 640x480 with 1 Axes>"
      ]
     },
     "metadata": {},
     "output_type": "display_data"
    },
    {
     "name": "stdout",
     "output_type": "stream",
     "text": [
      "ShapiroResult(statistic=np.float64(0.996881373624353), pvalue=np.float64(0.45415180832831537))\n",
      "ShapiroResult(statistic=np.float64(0.9975874988798397), pvalue=np.float64(0.6921509934260428))\n",
      "ShapiroResult(statistic=np.float64(0.9977926539771471), pvalue=np.float64(0.7628788480274074))\n",
      "KruskalResult(statistic=np.float64(31.763620221185192), pvalue=np.float64(1.266535905665074e-07))\n",
      "BartlettResult(statistic=np.float64(3.433916353189206), pvalue=np.float64(0.1796116647736796))\n",
      "FlignerResult(statistic=np.float64(2.0377861365097174), pvalue=np.float64(0.3609943151591389))\n",
      "LeveneResult(statistic=np.float64(0.9656103357869782), pvalue=np.float64(0.38098776278959856))\n",
      "결과 : F=16.5, p=0.00000\n",
      "P-value 값이 0.05보다 작으므로 그룹의 평균값이 통계적으로 유의하다.\n",
      "Multiple Comparison of Means - Tukey HSD, FWER=0.05\n",
      "===================================================\n",
      "group1 group2 meandiff p-adj   lower  upper  reject\n",
      "---------------------------------------------------\n",
      "   1.0    2.0   1.2072 0.4303 -1.0786 3.4931  False\n",
      "   1.0    3.0   5.3338    0.0  3.0479 7.6196   True\n",
      "   2.0    3.0   4.1266 0.0001  1.8407 6.4124   True\n",
      "---------------------------------------------------\n"
     ]
    },
    {
     "data": {
      "image/png": "[encoded data removed]",
      "text/plain": [
       "<Figure size 1000x600 with 1 Axes>"
      ]
     },
     "metadata": {},
     "output_type": "display_data"
    }
   ],
   "source": [
    "import scipy.stats as stats\n",
    "import pandas as pd\n",
    "import matplotlib.pyplot as plt\n",
    "import numpy as np\n",
    "from statsmodels.stats.multicomp import pairwise_tukeyhsd\n",
    "\n",
    "no_samples1 = 500\n",
    "no_samples2 = 500\n",
    "no_samples3 = 500\n",
    "\n",
    "g1 = stats.norm(120,15).rvs(no_samples1)\n",
    "g2 = stats.norm(121,15.7).rvs(no_samples2)\n",
    "g3 = stats.norm(126,15).rvs(no_samples3)\n",
    "\n",
    "\n",
    "plot_data = [g1, g2, g3]\n",
    "plt.boxplot(plot_data)\n",
    "plt.show()\n",
    "\n",
    "print(stats.shapiro(g1))\n",
    "print(stats.shapiro(g2))\n",
    "print(stats.shapiro(g3))\n",
    "\n",
    "# Kruskal-Wallis \n",
    "print(stats.kruskal(g1, g2, g3)) #non-parametic\n",
    "\n",
    "\n",
    "print(stats.bartlett(g1,g2,g3))\n",
    "print(stats.fligner(g1,g2,g3))\n",
    "print(stats.levene(g1,g2,g3)) #등분산  p-value>0.05\n",
    "\n",
    "\n",
    "F_statistic, pVal = stats.f_oneway(g1, g2, g3)\n",
    "\n",
    "\n",
    "print('결과 : F={0:.1f}, p={1:.5f}'.format(F_statistic, pVal))\n",
    "if pVal < 0.05:\n",
    "    print('P-value 값이 0.05보다 작으므로 그룹의 평균값이 통계적으로 유의하다.')\n",
    "    \n",
    "\n",
    "ones = np.ones(no_samples1)\n",
    "twos = np.ones(no_samples2)+1\n",
    "threes = np.ones(no_samples3)+2\n",
    "\n",
    "df1=pd.DataFrame(g1,ones)\n",
    "df2=pd.DataFrame(g2,twos)\n",
    "df3=pd.DataFrame(g3,threes)\n",
    "\n",
    "df = pd.concat([df1,df2,df3],axis=0)\n",
    "df = df.reset_index()\n",
    "df.columns=['group', 'value']\n",
    "\n",
    "posthoc = pairwise_tukeyhsd(df['value'], df['group'], alpha=0.05) \n",
    "print(posthoc)\n",
    "\n",
    "fig = posthoc.plot_simultaneous()\n",
    "\n",
    "plt.show()\n"
   ]
  },
  {
   "cell_type": "markdown",
   "metadata": {},
   "source": [
    "## 반별점수.csv \n",
    "## 일원배치분산분석"
   ]
  },
  {
   "cell_type": "code",
   "execution_count": 8,
   "metadata": {},
   "outputs": [
    {
     "name": "stdout",
     "output_type": "stream",
     "text": [
      "    A   B   C\n",
      "0  61  75  82\n",
      "1  13  41  40\n",
      "2  12  47  41\n",
      "3  44  67  43\n",
      "4  23  74  36\n"
     ]
    },
    {
     "name": "stderr",
     "output_type": "stream",
     "text": [
      "C:\\Users\\minsu\\AppData\\Local\\Temp\\ipykernel_39664\\2232928419.py:19: MatplotlibDeprecationWarning: The 'labels' parameter of boxplot() has been renamed 'tick_labels' since Matplotlib 3.9; support for the old name will be dropped in 3.11.\n",
      "  plt.boxplot(plot_data, labels=['A', 'B', 'C'])\n",
      "C:\\Users\\minsu\\AppData\\Roaming\\Python\\Python313\\site-packages\\IPython\\core\\pylabtools.py:170: UserWarning: Glyph 48152 (\\N{HANGUL SYLLABLE BAN}) missing from font(s) DejaVu Sans.\n",
      "  fig.canvas.print_figure(bytes_io, **kw)\n",
      "C:\\Users\\minsu\\AppData\\Roaming\\Python\\Python313\\site-packages\\IPython\\core\\pylabtools.py:170: UserWarning: Glyph 48324 (\\N{HANGUL SYLLABLE BYEOL}) missing from font(s) DejaVu Sans.\n",
      "  fig.canvas.print_figure(bytes_io, **kw)\n",
      "C:\\Users\\minsu\\AppData\\Roaming\\Python\\Python313\\site-packages\\IPython\\core\\pylabtools.py:170: UserWarning: Glyph 51216 (\\N{HANGUL SYLLABLE JEOM}) missing from font(s) DejaVu Sans.\n",
      "  fig.canvas.print_figure(bytes_io, **kw)\n",
      "C:\\Users\\minsu\\AppData\\Roaming\\Python\\Python313\\site-packages\\IPython\\core\\pylabtools.py:170: UserWarning: Glyph 49688 (\\N{HANGUL SYLLABLE SU}) missing from font(s) DejaVu Sans.\n",
      "  fig.canvas.print_figure(bytes_io, **kw)\n",
      "C:\\Users\\minsu\\AppData\\Roaming\\Python\\Python313\\site-packages\\IPython\\core\\pylabtools.py:170: UserWarning: Glyph 48516 (\\N{HANGUL SYLLABLE BUN}) missing from font(s) DejaVu Sans.\n",
      "  fig.canvas.print_figure(bytes_io, **kw)\n",
      "C:\\Users\\minsu\\AppData\\Roaming\\Python\\Python313\\site-packages\\IPython\\core\\pylabtools.py:170: UserWarning: Glyph 54252 (\\N{HANGUL SYLLABLE PO}) missing from font(s) DejaVu Sans.\n",
      "  fig.canvas.print_figure(bytes_io, **kw)\n"
     ]
    },
    {
     "data": {
      "image/png": "[encoded data removed]",
      "text/plain": [
       "<Figure size 640x480 with 1 Axes>"
      ]
     },
     "metadata": {},
     "output_type": "display_data"
    },
    {
     "name": "stdout",
     "output_type": "stream",
     "text": [
      "정규성 검사:\n",
      "A: ShapiroResult(statistic=np.float64(0.945466549578293), pvalue=np.float64(0.12769700002239698))\n",
      "B: ShapiroResult(statistic=np.float64(0.9347030668322036), pvalue=np.float64(0.06554670297369777))\n",
      "C: ShapiroResult(statistic=np.float64(0.9043479046349538), pvalue=np.float64(0.0107467776071921))\n",
      "\n",
      "Kruskal-Wallis 검정 (비모수):\n",
      "KruskalResult(statistic=np.float64(15.144531200667664), pvalue=np.float64(0.0005145254181401884))\n",
      "\n",
      "등분산성 검사:\n",
      "Bartlett: BartlettResult(statistic=np.float64(3.2106103593331476), pvalue=np.float64(0.20082825685678196))\n",
      "Fligner: FlignerResult(statistic=np.float64(4.889193095711427), pvalue=np.float64(0.08676113180613626))\n",
      "Levene: LeveneResult(statistic=np.float64(2.192593235942955), pvalue=np.float64(0.11775790930283393))\n",
      "\n",
      "[분산분석 결과]\n",
      "F = 12.67, p = 0.00001\n",
      "▶ 유의수준 0.05에서 그룹 간 평균 차이가 통계적으로 유의합니다.\n",
      "\n",
      "[Tukey HSD 사후분석]\n",
      "Multiple Comparison of Means - Tukey HSD, FWER=0.05 \n",
      "====================================================\n",
      "group1 group2 meandiff p-adj   lower   upper  reject\n",
      "----------------------------------------------------\n",
      "     A      B     14.6 0.0132  2.5696 26.6304   True\n",
      "     A      C     25.3    0.0 13.2696 37.3304   True\n",
      "     B      C     10.7 0.0915 -1.3304 22.7304  False\n",
      "----------------------------------------------------\n"
     ]
    },
    {
     "name": "stderr",
     "output_type": "stream",
     "text": [
      "C:\\Users\\minsu\\AppData\\Roaming\\Python\\Python313\\site-packages\\IPython\\core\\pylabtools.py:170: UserWarning: Glyph 49324 (\\N{HANGUL SYLLABLE SA}) missing from font(s) DejaVu Sans.\n",
      "  fig.canvas.print_figure(bytes_io, **kw)\n",
      "C:\\Users\\minsu\\AppData\\Roaming\\Python\\Python313\\site-packages\\IPython\\core\\pylabtools.py:170: UserWarning: Glyph 54980 (\\N{HANGUL SYLLABLE HU}) missing from font(s) DejaVu Sans.\n",
      "  fig.canvas.print_figure(bytes_io, **kw)\n",
      "C:\\Users\\minsu\\AppData\\Roaming\\Python\\Python313\\site-packages\\IPython\\core\\pylabtools.py:170: UserWarning: Glyph 48516 (\\N{HANGUL SYLLABLE BUN}) missing from font(s) DejaVu Sans.\n",
      "  fig.canvas.print_figure(bytes_io, **kw)\n",
      "C:\\Users\\minsu\\AppData\\Roaming\\Python\\Python313\\site-packages\\IPython\\core\\pylabtools.py:170: UserWarning: Glyph 49437 (\\N{HANGUL SYLLABLE SEOG}) missing from font(s) DejaVu Sans.\n",
      "  fig.canvas.print_figure(bytes_io, **kw)\n",
      "C:\\Users\\minsu\\AppData\\Roaming\\Python\\Python313\\site-packages\\IPython\\core\\pylabtools.py:170: UserWarning: Glyph 44208 (\\N{HANGUL SYLLABLE GYEOL}) missing from font(s) DejaVu Sans.\n",
      "  fig.canvas.print_figure(bytes_io, **kw)\n",
      "C:\\Users\\minsu\\AppData\\Roaming\\Python\\Python313\\site-packages\\IPython\\core\\pylabtools.py:170: UserWarning: Glyph 44284 (\\N{HANGUL SYLLABLE GWA}) missing from font(s) DejaVu Sans.\n",
      "  fig.canvas.print_figure(bytes_io, **kw)\n"
     ]
    },
    {
     "data": {
      "image/png": "[encoded data removed]",
      "text/plain": [
       "<Figure size 1000x600 with 1 Axes>"
      ]
     },
     "metadata": {},
     "output_type": "display_data"
    }
   ],
   "source": [
    "import scipy.stats as stats\n",
    "import pandas as pd\n",
    "import matplotlib.pyplot as plt\n",
    "import numpy as np\n",
    "from statsmodels.stats.multicomp import pairwise_tukeyhsd\n",
    "\n",
    "data = pd.read_csv('score.csv') # 시험문제 유형: 분산분석을 통해 적절한 결론을 내려라!, p값이 무슨 뜻을 의미하는지 알아야함!\n",
    "print(data.head())\n",
    "## 반별 점수 분산분석\n",
    "\n",
    "\n",
    "# 반별 점수 추출\n",
    "g1 = data['A']\n",
    "g2 = data['B']\n",
    "g3 = data['C']\n",
    "\n",
    "# 박스플롯 시각화\n",
    "plot_data = [g1, g2, g3]\n",
    "plt.boxplot(plot_data, labels=['A', 'B', 'C'])\n",
    "plt.title('반별 점수 분포')\n",
    "plt.show()\n",
    "\n",
    "# 정규성 검정\n",
    "print('정규성 검사:')\n",
    "print('A:', stats.shapiro(g1))\n",
    "print('B:', stats.shapiro(g2))\n",
    "print('C:', stats.shapiro(g3))\n",
    "\n",
    "# 비모수 검정 (정규성 만족 못할 경우 대비)\n",
    "print('\\nKruskal-Wallis 검정 (비모수):')\n",
    "print(stats.kruskal(g1, g2, g3))\n",
    "\n",
    "# 등분산 검정\n",
    "print('\\n등분산성 검사:')\n",
    "print('Bartlett:', stats.bartlett(g1, g2, g3))\n",
    "print('Fligner:', stats.fligner(g1, g2, g3))\n",
    "print('Levene:', stats.levene(g1, g2, g3))  # 일반적으로 가장 많이 사용\n",
    "\n",
    "# ANOVA (일원분산분석)\n",
    "F_statistic, pVal = stats.f_oneway(g1, g2, g3)\n",
    "print('\\n[분산분석 결과]')\n",
    "print('F = {:.2f}, p = {:.5f}'.format(F_statistic, pVal))\n",
    "if pVal < 0.05:\n",
    "    print('▶ 유의수준 0.05에서 그룹 간 평균 차이가 통계적으로 유의합니다.')\n",
    "else:\n",
    "    print('▶ 그룹 간 평균 차이가 유의하지 않습니다.')\n",
    "\n",
    "# 사후 분석 (Tukey HSD)\n",
    "df1 = pd.DataFrame({'group': 'A', 'value': g1})\n",
    "df2 = pd.DataFrame({'group': 'B', 'value': g2})\n",
    "df3 = pd.DataFrame({'group': 'C', 'value': g3})\n",
    "df = pd.concat([df1, df2, df3], axis=0)\n",
    "\n",
    "# Tukey HSD test\n",
    "posthoc = pairwise_tukeyhsd(df['value'], df['group'], alpha=0.05)\n",
    "print('\\n[Tukey HSD 사후분석]')\n",
    "print(posthoc)\n",
    "\n",
    "# 시각화\n",
    "fig = posthoc.plot_simultaneous()\n",
    "plt.title('Tukey HSD 사후분석 결과')\n",
    "plt.show()\n",
    "\n",
    "\n"
   ]
  },
  {
   "cell_type": "markdown",
   "metadata": {},
   "source": [
    "## 카이제곱 검정 - 적합도검정(기대빈도)"
   ]
  },
  {
   "cell_type": "code",
   "execution_count": null,
   "metadata": {},
   "outputs": [],
   "source": [
    "#연구가설은 대립가설로 하고 진행\n",
    "from pandas import DataFrame\n",
    "from scipy.stats import chisquare\n",
    "import matplotlib.pyplot as plt\n",
    "import seaborn as sns\n",
    "\n",
    "\n",
    "xo, xe = [24, 378, 251], [271, 180, 202]\n",
    "xc = DataFrame([xo, xe], columns=['Item A', 'Item B', 'Item C'], index=['Obs', 'Exp'])\n",
    "\n",
    "#############\n",
    "#bar plot을 작성\n",
    "\n",
    "# %matplotlib inline\n",
    "\n",
    "ax = xc.plot(kind='bar', title='Number of Items', figsize=(8, 6))\n",
    "ax.set_ylabel('value')\n",
    "plt.grid(color='darkgray')\n",
    "plt.show()\n",
    "\n",
    "\n",
    "#from scipy.stats의 chisquare()를 이용하여 카이제곱 검정을 실행\n",
    "\n",
    "\n",
    "result1 = chisquare(xo, f_exp=xe) # 일원카이제곱 관찰빈도(특정지역) vs. 기대빈도(판매빈도)\n",
    "print(result1)\n",
    "\n",
    "#p-value가 1.7334684263715945e-99로 유의수준 0.05보다 아주 작은 값이므로 귀무가설을 기각하고 대립가설을 지지\n",
    "\n",
    "#즉 연구가설이 지지\n"
   ]
  },
  {
   "cell_type": "markdown",
   "metadata": {},
   "source": [
    "## 카이제곱 - 독립성검정"
   ]
  },
  {
   "cell_type": "code",
   "execution_count": null,
   "metadata": {},
   "outputs": [],
   "source": [
    "#연구가설은 대립가설로 하고 진행\n",
    "from pandas import DataFrame\n",
    "import matplotlib.pyplot as plt\n",
    "from scipy.stats import chi2_contingency\n",
    "import seaborn as sns\n",
    "\n",
    "a, b, c = [205, 80], [180, 200], [120, 200]\n",
    "df = pd.DataFrame([a, b, c], columns = ['애플', '삼성'], index = ['10대', '20대', '30대'])\n",
    "df\n",
    "\n",
    "###########\n",
    "plt.rc('font', family='Malgun Gothic') \n",
    "df.plot(kind = 'bar')\n",
    "\n",
    "plt.grid()\n",
    "plt.show()\n",
    "\n",
    "#############\n",
    "#bar plot을 작성\n",
    "\n",
    "result = chi2_contingency(df)\n",
    "print(result)\n"
   ]
  },
  {
   "cell_type": "markdown",
   "metadata": {},
   "source": [
    "### 동질성 검토"
   ]
  },
  {
   "cell_type": "code",
   "execution_count": null,
   "metadata": {},
   "outputs": [],
   "source": [
    "import pandas as pd\n",
    "import matplotlib.pyplot as plt\n",
    "from scipy.stats import chi2_contingency\n",
    "import seaborn as sns\n",
    "\n",
    "a, b = [205, 210, 180], [200, 200, 175]\n",
    "df = pd.DataFrame([a, b], columns = ['바닐라', '딸기', '초코'], index = ['남', '녀'])\n",
    "\n",
    "print(df)\n",
    "\n",
    "## 통계치와 p값 계산"
   ]
  }
 ],
 "metadata": {
  "kernelspec": {
   "display_name": "Python 3",
   "language": "python",
   "name": "python3"
  },
  "language_info": {
   "codemirror_mode": {
    "name": "ipython",
    "version": 3
   },
   "file_extension": ".py",
   "mimetype": "text/x-python",
   "name": "python",
   "nbconvert_exporter": "python",
   "pygments_lexer": "ipython3",
   "version": "3.13.2"
  },
  "orig_nbformat": 4
 },
 "nbformat": 4,
 "nbformat_minor": 2
}
